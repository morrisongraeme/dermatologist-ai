{
 "cells": [
  {
   "cell_type": "code",
   "execution_count": 1,
   "metadata": {},
   "outputs": [],
   "source": [
    "import torch\n",
    "import torch.nn as nn\n",
    "from torchvision import datasets, transforms\n",
    "import torchvision\n",
    "import numpy as np\n",
    "from glob import glob\n",
    "import cv2"
   ]
  },
  {
   "cell_type": "code",
   "execution_count": 7,
   "metadata": {},
   "outputs": [
    {
     "name": "stdout",
     "output_type": "stream",
     "text": [
      "There are 150 valid images\n",
      "There are 2000 train images\n",
      "There are 600 test images\n",
      "Image height min-mean-max = 767-1105.75-2112\n",
      "Image width min-mean-max = 1022-1473.15-2816\n"
     ]
    }
   ],
   "source": [
    "# Take a first look at data to establish typical image sizes etc.\n",
    "train_dir = \"/data/train\"\n",
    "\n",
    "# Get image file names\n",
    "files = {}\n",
    "files['train'] = np.array(glob(\"./data/train/*/*\"))\n",
    "files['valid'] = np.array(glob(\"./data/valid/*/*\"))\n",
    "files['test'] = np.array(glob(\"./data/test/*/*\"))\n",
    "\n",
    "# Get number of images in each set\n",
    "for key, images in files.items():\n",
    "    print(\"There are \" + str(len(images)) + \" \" + key + \" images\")\n",
    "    \n",
    "# Get statistics of first 100 images in training set\n",
    "height = {'max': 0, 'min': np.inf, 'sum': 0}\n",
    "width = {'max': 0, 'min': np.inf, 'sum': 0}\n",
    "for image in files['train'][0:20]:\n",
    "    img = cv2.imread(image)\n",
    "    if img.shape[0] > height['max']:\n",
    "        height['max'] = img.shape[0]\n",
    "    if img.shape[0] < height['min']:\n",
    "        height['min'] = img.shape[0]\n",
    "    if img.shape[1] > width['max']:\n",
    "        width['max'] = img.shape[1]\n",
    "    if img.shape[1] < width['min']:\n",
    "        width['min'] = img.shape[1]\n",
    "    height['sum'] += img.shape[0]\n",
    "    width['sum'] += img.shape[1]\n",
    "print(\"Image height min-mean-max = {}-{}-{}\".format(height['min'], height['sum']/20, height['max']))\n",
    "print(\"Image width min-mean-max = {}-{}-{}\".format(width['min'], width['sum']/20, width['max']))"
   ]
  },
  {
   "cell_type": "code",
   "execution_count": 2,
   "metadata": {},
   "outputs": [],
   "source": [
    "# Create dataloaders\n",
    "loaders = {}\n",
    "train_transforms = transforms.Compose([transforms.RandomRotation(180), \n",
    "                                       transforms.Resize(224), \n",
    "                                       transforms.CenterCrop(224),\n",
    "                                      transforms.RandomHorizontalFlip(),\n",
    "                                      transforms.ToTensor(),\n",
    "                                      transforms.Normalize(mean=[0.485, 0.456, 0.406],\n",
    "                                     std=[0.229, 0.224, 0.225])])\n",
    "train_folder = datasets.ImageFolder(\"./data/train\", transform = train_transforms)\n",
    "loaders['train'] = torch.utils.data.DataLoader(train_folder, batch_size=4, shuffle=True)\n",
    "\n",
    "valid_transforms = transforms.Compose([transforms.Resize(224), \n",
    "                                       transforms.CenterCrop(224),\n",
    "                                      transforms.ToTensor(),\n",
    "                                      transforms.Normalize(mean=[0.485, 0.456, 0.406],\n",
    "                                     std=[0.229, 0.224, 0.225])])\n",
    "valid_folder = datasets.ImageFolder(\"./data/valid\", transform = valid_transforms)\n",
    "loaders['valid'] = torch.utils.data.DataLoader(valid_folder, batch_size=4, shuffle=True)\n",
    "\n",
    "test_transforms = transforms.Compose([transforms.Resize(224), \n",
    "                                       transforms.CenterCrop(224),\n",
    "                                      transforms.ToTensor(),\n",
    "                                      transforms.Normalize(mean=[0.485, 0.456, 0.406],\n",
    "                                     std=[0.229, 0.224, 0.225])])\n",
    "test_folder = datasets.ImageFolder(\"./data/test\", transform = test_transforms)\n",
    "loaders['test'] = torch.utils.data.DataLoader(test_folder, batch_size=4, shuffle=True)"
   ]
  },
  {
   "cell_type": "code",
   "execution_count": 18,
   "metadata": {},
   "outputs": [
    {
     "name": "stdout",
     "output_type": "stream",
     "text": [
      "102782976\n"
     ]
    }
   ],
   "source": [
    "print(torch.cuda.memory_allocated())"
   ]
  },
  {
   "cell_type": "code",
   "execution_count": 17,
   "metadata": {},
   "outputs": [],
   "source": [
    "del model"
   ]
  },
  {
   "cell_type": "code",
   "execution_count": 19,
   "metadata": {},
   "outputs": [],
   "source": [
    "# Create transfer learning network\n",
    "model = torchvision.models.vgg16(pretrained=True)\n",
    "model.classifier = nn.Sequential(nn.Linear(25088, 512),\n",
    "                                nn.ReLU(),\n",
    "                                nn.Linear(512, 256),\n",
    "                                nn.ReLU(),\n",
    "                                nn.Linear(256, 3))\n",
    "for param in model.features.parameters():\n",
    "    param.require_grad = False\n",
    "\n",
    "if torch.cuda.is_available():\n",
    "    torch.cuda.empty_cache()\n",
    "    model.cuda()"
   ]
  },
  {
   "cell_type": "code",
   "execution_count": 20,
   "metadata": {},
   "outputs": [],
   "source": [
    "# Create loss fcn and optimizer\n",
    "criterion = nn.modules.loss.CrossEntropyLoss()\n",
    "optimizer = torch.optim.Adam(model.classifier.parameters(), lr = 0.0001)"
   ]
  },
  {
   "cell_type": "code",
   "execution_count": 21,
   "metadata": {},
   "outputs": [],
   "source": [
    "# Training function\n",
    "def train_model(model, epochs, loaders, criterion, optimizer, save_name):\n",
    "\n",
    "    use_cuda = torch.cuda.is_available()\n",
    "    train_count_total = len(loaders['train'].dataset)\n",
    "    train_batch_size = loaders['train'].batch_size\n",
    "    valid_count_total = len(loaders['valid'].dataset)\n",
    "    valid_batch_size = loaders['valid'].batch_size\n",
    "    valid_loss_best = np.inf\n",
    "    print_every = 5\n",
    "\n",
    "    for e in range(1, epochs+1):\n",
    "\n",
    "        # Training step\n",
    "        model.train()\n",
    "        train_loss = 0\n",
    "        train_count_correct = 0\n",
    "        for idx, (inputs, targets) in enumerate(loaders['train']):\n",
    "\n",
    "            if use_cuda:\n",
    "                inputs, targets = inputs.cuda(), targets.cuda()\n",
    "\n",
    "            outputs = model.forward(inputs)\n",
    "            loss = criterion(outputs, targets)\n",
    "            loss.backward()\n",
    "            optimizer.step()\n",
    "\n",
    "            train_loss = (train_loss * idx + loss.item())/(idx + 1)\n",
    "            _, pred = outputs.max(1)\n",
    "            train_count_correct += np.sum(np.squeeze(pred.eq(targets.view_as(pred))).cpu().numpy())\n",
    "\n",
    "            if idx % print_every == 0:\n",
    "                print(\"Epoch {}/{} - {:.2f}% complete - Train loss = {}\".format(e,\n",
    "                                                                                epochs,\n",
    "                                                                                100*idx*train_batch_size/train_count_total,\n",
    "                                                                                train_loss), end='\\r')\n",
    "                \n",
    "        del inputs, targets, outputs, loss\n",
    "\n",
    "        # Validation step\n",
    "        model.eval()\n",
    "        valid_loss = 0\n",
    "        valid_count_correct = 0\n",
    "        for idx, (inputs, targets) in enumerate(loaders['valid']):\n",
    "\n",
    "            if use_cuda:\n",
    "                inputs, targets = inputs.cuda(), targets.cuda()\n",
    "\n",
    "            outputs = model.forward(inputs)\n",
    "            loss = criterion(outputs, targets)\n",
    "\n",
    "            valid_loss = (valid_loss * idx + loss.item())/(idx + 1)\n",
    "            _, pred = outputs.max(1)\n",
    "            valid_count_correct += np.sum(np.squeeze(pred.eq(targets.view_as(pred))).cpu().numpy())\n",
    "\n",
    "\n",
    "        # Print epoch summary\n",
    "        print(\"Epoch {}/{} - \".format(e, epochs) +\n",
    "              \"Training: Loss = {:.4f}, Acc = {:.2f}% - \".format(train_loss, 100*train_count_correct/train_count_total) +\n",
    "              \"Validation: Loss = {:.4f}, Acc = {:.2f}%\".format(valid_loss, 100*valid_count_correct/valid_count_total))\n",
    "        print(\"Cuda memory allocated = {}\".format(torch.cuda.memory_allocated()))\n",
    "\n",
    "        if valid_loss < valid_loss_best:\n",
    "            valid_loss_best = valid_loss\n",
    "            torch.save(model.state_dict, save_name)\n",
    "            print(\"Validation loss decreased...saving checkpoint\")\n",
    "        \n",
    "        del inputs, targets, outputs, loss\n",
    "        \n",
    "    return model"
   ]
  },
  {
   "cell_type": "code",
   "execution_count": 22,
   "metadata": {},
   "outputs": [
    {
     "name": "stdout",
     "output_type": "stream",
     "text": [
      "Epoch 1/5 - Training: Loss = 0.9574, Acc = 62.25% - Validation: Loss = 0.8438, Acc = 58.00%\n",
      "Cuda memory allocated = 474158592\n",
      "Validation loss decreased...saving checkpoint\n",
      "Epoch 2/5 - Training: Loss = 0.8515, Acc = 66.35% - Validation: Loss = 1.1233, Acc = 51.33%\n",
      "Cuda memory allocated = 474551808\n",
      "Epoch 3/5 - Training: Loss = 0.9480, Acc = 68.45% - Validation: Loss = 0.9421, Acc = 52.00%\n",
      "Cuda memory allocated = 473896448\n",
      "Epoch 4/5 - Training: Loss = 0.8039, Acc = 68.05% - Validation: Loss = 0.8573, Acc = 52.00%\n",
      "Cuda memory allocated = 473896448\n",
      "Epoch 5/5 - Training: Loss = 1.0310, Acc = 68.85% - Validation: Loss = 0.8473, Acc = 51.33%\n",
      "Cuda memory allocated = 473896448\n"
     ]
    }
   ],
   "source": [
    "# Run training\n",
    "model = train_model(model, 5, loaders, criterion, optimizer, \"checkpoint.pt\")"
   ]
  },
  {
   "cell_type": "code",
   "execution_count": 23,
   "metadata": {},
   "outputs": [
    {
     "name": "stdout",
     "output_type": "stream",
     "text": [
      "326019072\n"
     ]
    }
   ],
   "source": [
    "print(torch.cuda.memory_allocated())"
   ]
  },
  {
   "cell_type": "code",
   "execution_count": 24,
   "metadata": {},
   "outputs": [],
   "source": [
    "# Testing function\n",
    "def test_model(model, loaders, criterion):\n",
    "\n",
    "    use_cuda = torch.cuda.is_available()\n",
    "    test_count_total = len(loaders['test'].dataset)\n",
    "    test_batch_size = loaders['test'].batch_size\n",
    "  \n",
    "    model.eval()\n",
    "    test_loss = 0\n",
    "    test_count_correct = 0\n",
    "    for idx, (inputs, targets) in enumerate(loaders['test']):\n",
    "\n",
    "        if use_cuda:\n",
    "            inputs, targets = inputs.cuda(), targets.cuda()\n",
    "\n",
    "        outputs = model.forward(inputs)\n",
    "        loss = criterion(outputs, targets)\n",
    "\n",
    "        test_loss = (test_loss * idx + loss.item())/(idx + 1)\n",
    "        _, pred = outputs.max(1)\n",
    "        test_count_correct += np.sum(np.squeeze(pred.eq(targets.view_as(pred))).cpu().numpy())\n",
    "\n",
    "    # Print summary\n",
    "    print(\"Test: Loss = {:.4f}, Acc = {:.2f}% - \".format(test_loss, \n",
    "                                                         100*test_count_correct/test_count_total))\n",
    "    print(\"Cuda memory allocated = {}\".format(torch.cuda.memory_allocated()))\n",
    "\n",
    "    del inputs, targets, outputs, loss"
   ]
  },
  {
   "cell_type": "code",
   "execution_count": null,
   "metadata": {},
   "outputs": [],
   "source": [
    "# Run testing\n",
    "\n",
    "test_model(model, loaders, criterion)"
   ]
  },
  {
   "cell_type": "code",
   "execution_count": null,
   "metadata": {},
   "outputs": [],
   "source": []
  }
 ],
 "metadata": {
  "kernelspec": {
   "display_name": "Python 3",
   "language": "python",
   "name": "python3"
  },
  "language_info": {
   "codemirror_mode": {
    "name": "ipython",
    "version": 3
   },
   "file_extension": ".py",
   "mimetype": "text/x-python",
   "name": "python",
   "nbconvert_exporter": "python",
   "pygments_lexer": "ipython3",
   "version": "3.5.4"
  }
 },
 "nbformat": 4,
 "nbformat_minor": 2
}
