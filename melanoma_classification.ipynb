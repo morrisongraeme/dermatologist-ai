{
 "cells": [
  {
   "cell_type": "code",
   "execution_count": 9,
   "metadata": {},
   "outputs": [],
   "source": [
    "import torch\n",
    "import torch.nn as nn\n",
    "from torchvision import datasets, transforms\n",
    "import numpy as np\n",
    "from glob import glob\n",
    "import cv2"
   ]
  },
  {
   "cell_type": "code",
   "execution_count": 7,
   "metadata": {},
   "outputs": [
    {
     "name": "stdout",
     "output_type": "stream",
     "text": [
      "There are 150 valid images\n",
      "There are 2000 train images\n",
      "There are 600 test images\n",
      "Image height min-mean-max = 767-1105.75-2112\n",
      "Image width min-mean-max = 1022-1473.15-2816\n"
     ]
    }
   ],
   "source": [
    "# Take a first look at data to establish typical image sizes etc.\n",
    "train_dir = \"/data/train\"\n",
    "\n",
    "# Get image file names\n",
    "files = {}\n",
    "files['train'] = np.array(glob(\"./data/train/*/*\"))\n",
    "files['valid'] = np.array(glob(\"./data/valid/*/*\"))\n",
    "files['test'] = np.array(glob(\"./data/test/*/*\"))\n",
    "\n",
    "# Get number of images in each set\n",
    "for key, images in files.items():\n",
    "    print(\"There are \" + str(len(images)) + \" \" + key + \" images\")\n",
    "    \n",
    "# Get statistics of first 100 images in training set\n",
    "height = {'max': 0, 'min': np.inf, 'sum': 0}\n",
    "width = {'max': 0, 'min': np.inf, 'sum': 0}\n",
    "for image in files['train'][0:20]:\n",
    "    img = cv2.imread(image)\n",
    "    if img.shape[0] > height['max']:\n",
    "        height['max'] = img.shape[0]\n",
    "    if img.shape[0] < height['min']:\n",
    "        height['min'] = img.shape[0]\n",
    "    if img.shape[1] > width['max']:\n",
    "        width['max'] = img.shape[1]\n",
    "    if img.shape[1] < width['min']:\n",
    "        width['min'] = img.shape[1]\n",
    "    height['sum'] += img.shape[0]\n",
    "    width['sum'] += img.shape[1]\n",
    "print(\"Image height min-mean-max = {}-{}-{}\".format(height['min'], height['sum']/20, height['max']))\n",
    "print(\"Image width min-mean-max = {}-{}-{}\".format(width['min'], width['sum']/20, width['max']))"
   ]
  },
  {
   "cell_type": "code",
   "execution_count": 12,
   "metadata": {},
   "outputs": [],
   "source": [
    "# Create dataloaders\n",
    "loaders = {}\n",
    "train_transforms = transforms.Compose([transforms.RandomRotation(180), \n",
    "                                       transforms.Resize(224), \n",
    "                                       transforms.CenterCrop(224),\n",
    "                                      transforms.RandomHorizontalFlip(),\n",
    "                                      transforms.ToTensor(),\n",
    "                                      transforms.Normalize(mean=[0.485, 0.456, 0.406],\n",
    "                                     std=[0.229, 0.224, 0.225])])\n",
    "train_folder = datasets.ImageFolder(\"./data/train\", transform = train_transforms)\n",
    "loaders['train'] = torch.utils.data.DataLoader(train_folder, batch_size=64, shuffle=True)\n",
    "\n",
    "valid_transforms = transforms.Compose([transforms.Resize(224), \n",
    "                                       transforms.CenterCrop(224),\n",
    "                                      transforms.ToTensor(),\n",
    "                                      transforms.Normalize(mean=[0.485, 0.456, 0.406],\n",
    "                                     std=[0.229, 0.224, 0.225])])\n",
    "valid_folder = datasets.ImageFolder(\"./data/valid\", transform = valid_transforms)\n",
    "loaders['valid'] = torch.utils.data.DataLoader(valid_folder, batch_size=64, shuffle=True)\n",
    "\n",
    "test_transforms = transforms.Compose([transforms.Resize(224), \n",
    "                                       transforms.CenterCrop(224),\n",
    "                                      transforms.ToTensor(),\n",
    "                                      transforms.Normalize(mean=[0.485, 0.456, 0.406],\n",
    "                                     std=[0.229, 0.224, 0.225])])\n",
    "test_folder = datasets.ImageFolder(\"./data/test\", transform = test_transforms)\n",
    "loaders['test'] = torch.utils.data.DataLoader(test_folder, batch_size=64, shuffle=True)"
   ]
  },
  {
   "cell_type": "code",
   "execution_count": 15,
   "metadata": {},
   "outputs": [],
   "source": [
    "# Create transfer learning network\n",
    "model = torchvision.models.vgg19(pretrained=True)\n",
    "model.classifier = nn.Sequential(nn.Linear(25088, 256),\n",
    "                                nn.ReLU(),\n",
    "                                nn.Linear(256, 3))\n",
    "for param in model.features.parameters():\n",
    "    param.require_grad = False\n"
   ]
  },
  {
   "cell_type": "code",
   "execution_count": null,
   "metadata": {},
   "outputs": [],
   "source": [
    "# Create loss fcn and optimizer\n",
    "criterion = nn.modules.loss.CrossEntropyLoss()\n",
    "optimizer = torch.optim.Adam(model.classifier.parameters(), lr = 0.001)"
   ]
  },
  {
   "cell_type": "code",
   "execution_count": null,
   "metadata": {},
   "outputs": [],
   "source": [
    "# Training function"
   ]
  },
  {
   "cell_type": "code",
   "execution_count": null,
   "metadata": {},
   "outputs": [],
   "source": [
    "# Testing function"
   ]
  },
  {
   "cell_type": "code",
   "execution_count": null,
   "metadata": {},
   "outputs": [],
   "source": [
    "# Run training"
   ]
  },
  {
   "cell_type": "code",
   "execution_count": null,
   "metadata": {},
   "outputs": [],
   "source": [
    "# Run testing"
   ]
  }
 ],
 "metadata": {
  "kernelspec": {
   "display_name": "Python 3",
   "language": "python",
   "name": "python3"
  },
  "language_info": {
   "codemirror_mode": {
    "name": "ipython",
    "version": 3
   },
   "file_extension": ".py",
   "mimetype": "text/x-python",
   "name": "python",
   "nbconvert_exporter": "python",
   "pygments_lexer": "ipython3",
   "version": "3.5.4"
  }
 },
 "nbformat": 4,
 "nbformat_minor": 2
}
